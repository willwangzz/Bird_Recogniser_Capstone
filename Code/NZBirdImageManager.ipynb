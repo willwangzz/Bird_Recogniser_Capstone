{
 "cells": [
  {
   "cell_type": "code",
   "execution_count": 1,
   "id": "2187f971",
   "metadata": {},
   "outputs": [],
   "source": [
    "import cv2\n",
    "import os\n",
    "import numpy as np"
   ]
  },
  {
   "cell_type": "code",
   "execution_count": 2,
   "id": "a41bd02d",
   "metadata": {},
   "outputs": [],
   "source": [
    "# Specify Root Paths\n",
    "original_path = '../Kaggle500Dataset/NZBird'\n",
    "resized_path = '../Kaggle500Dataset/NZBirdResized'\n"
   ]
  },
  {
   "cell_type": "code",
   "execution_count": 11,
   "id": "c3ba14ff",
   "metadata": {},
   "outputs": [],
   "source": [
    "subfolders = sorted(os.listdir(original_path))\n",
    "subfolders.remove('.DS_Store')"
   ]
  },
  {
   "cell_type": "code",
   "execution_count": 12,
   "id": "5da91eba",
   "metadata": {},
   "outputs": [
    {
     "name": "stdout",
     "output_type": "stream",
     "text": [
      "['BLACKBIRD', 'BLUE DUCK(WHIO)', 'FANTAIL(PIWAKAWAKA)', 'GREY WARBLER', 'KAKAPO', 'KEA', 'MOREPORK(RURU)', 'TUI']\n"
     ]
    }
   ],
   "source": [
    "print(subfolders)"
   ]
  },
  {
   "cell_type": "code",
   "execution_count": 13,
   "id": "0e8aa4b3",
   "metadata": {},
   "outputs": [],
   "source": [
    "def getResizedImage(image):\n",
    "    x = image.shape[0] # width\n",
    "    y = image.shape[1] # height\n",
    "    \n",
    "    target = max(x,y)\n",
    "    BLACK = [0,0,0]\n",
    "    a = (target - x) / 2\n",
    "    b = (target - y) / 2\n",
    "    squareImage = cv2.copyMakeBorder(image, int(a), int(a), int(b), int(b), cv2.BORDER_CONSTANT, value = BLACK)\n",
    "    \n",
    "    resizedImage = cv2.resize(squareImage, (224, 224))\n",
    "    return resizedImage"
   ]
  },
  {
   "cell_type": "code",
   "execution_count": 22,
   "id": "c950ee60",
   "metadata": {},
   "outputs": [],
   "source": [
    "for fileDir in subfolders:\n",
    "    original_type_path = original_path + \"/\" + fileDir\n",
    "    resized_type_path = resized_path + \"/\" + fileDir\n",
    "    \n",
    "    if not os.path.exists(resized_type_path): os.makedirs(resized_type_path)\n",
    "        \n",
    "    imagesDir = os.listdir(original_type_path)\n",
    "    if os.path.exists(original_type_path + \"/\" + \".DS_Store\"): imagesDir.remove('.DS_Store')\n",
    "    \n",
    "    i = 0\n",
    "    for imageDir in imagesDir:\n",
    "        wholeImageDir = original_type_path + \"/\" + imageDir\n",
    "        resizedImagesDir = resized_type_path + \"/\" + str(i) + \".jpg\"\n",
    "        \n",
    "        image = cv2.imread(wholeImageDir)\n",
    "        \n",
    "        resizedImage = getResizedImage(image)\n",
    "        \n",
    "        cv2.imwrite(resizedImagesDir , resizedImage)\n",
    "        \n",
    "        i = i + 1\n",
    "        "
   ]
  },
  {
   "cell_type": "code",
   "execution_count": null,
   "id": "7d4d8ff8",
   "metadata": {},
   "outputs": [],
   "source": []
  }
 ],
 "metadata": {
  "kernelspec": {
   "display_name": "Python 3 (ipykernel)",
   "language": "python",
   "name": "python3"
  },
  "language_info": {
   "codemirror_mode": {
    "name": "ipython",
    "version": 3
   },
   "file_extension": ".py",
   "mimetype": "text/x-python",
   "name": "python",
   "nbconvert_exporter": "python",
   "pygments_lexer": "ipython3",
   "version": "3.9.13"
  }
 },
 "nbformat": 4,
 "nbformat_minor": 5
}
